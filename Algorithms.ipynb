{
 "cells": [
  {
   "cell_type": "markdown",
   "metadata": {},
   "source": [
    "# LinerSearch\n",
    "# 输入：n个元素的数组A[1...n]和元素x\n",
    "# 输出：如果x=A[j]，1<=j<=n，则输出j，否则输出0"
   ]
  },
  {
   "cell_type": "code",
   "execution_count": 1,
   "metadata": {},
   "outputs": [
    {
     "name": "stdout",
     "output_type": "stream",
     "text": [
      "8\n",
      "0\n"
     ]
    }
   ],
   "source": [
    "def LinerSearch(A,x):\n",
    "    # python的列表（数组）下标从0开始\n",
    "    j=0\n",
    "    while j<len(A)-1 and x!=A[j]:\n",
    "        j+=1\n",
    "    if x==A[j]:return j+1\n",
    "    return 0\n",
    "\n",
    "A=[1,2,2,5,4,5,8,9,11,30,12,7,7,44,32]\n",
    "res=LinerSearch(A,9)\n",
    "print(res)\n",
    "\n",
    "res2=LinerSearch(A,10)\n",
    "print(res2)"
   ]
  },
  {
   "cell_type": "markdown",
   "metadata": {},
   "source": [
    "# 需要遍历一遍数组，时间复杂度是O(n),Ω(1),θ(n)"
   ]
  },
  {
   "cell_type": "markdown",
   "metadata": {},
   "source": [
    "<hr style=\"height:3px;border:none;border-top:3px double black;\" />"
   ]
  },
  {
   "cell_type": "markdown",
   "metadata": {},
   "source": [
    "# BinarySearch\n",
    "# 输入：n个元素的“升序”数组A[1...n]和元素x\n",
    "# 输出：如果x=A[j]，1<=j<=n，则输出j，否则输出0"
   ]
  },
  {
   "cell_type": "code",
   "execution_count": 64,
   "metadata": {},
   "outputs": [
    {
     "name": "stdout",
     "output_type": "stream",
     "text": [
      "4\n"
     ]
    }
   ],
   "source": [
    "def BinarySearch(A,x):\n",
    "    low=0\n",
    "    high=len(A)-1\n",
    "    while low<=high:\n",
    "        mid=int((low+high)/2)\n",
    "        if A[mid]==x: return mid+1\n",
    "        elif x<A[mid]:high=mid-1\n",
    "        else:low=mid+1\n",
    "    return 0\n",
    "\n",
    "A=[1,2,3,4,5,6,7,8,9,10]\n",
    "res=BinarySearch(A,4)\n",
    "print(res)"
   ]
  },
  {
   "cell_type": "markdown",
   "metadata": {},
   "source": [
    "# 每次运算后数据规模减半，数据规模为N，进行了x次运算，2**x=N，x=log(N)\n",
    "# 时间复杂度是O(logn),Ω(1),θ(logn)"
   ]
  },
  {
   "cell_type": "markdown",
   "metadata": {},
   "source": [
    "<hr style=\"height:3px;border:none;border-top:3px double black;\" />"
   ]
  },
  {
   "cell_type": "markdown",
   "metadata": {},
   "source": [
    "# merge\n",
    "# 输入：数组A[1...m]和它的三个索引p,q,r,1<=p<=q<r<=m，\n",
    "# 两个子数组A[p...q]和A[q+1...r]各自按升序排列\n",
    "# 合并两个子数组A[p...q]和A[q+1...r]"
   ]
  },
  {
   "cell_type": "code",
   "execution_count": 7,
   "metadata": {},
   "outputs": [
    {
     "name": "stdout",
     "output_type": "stream",
     "text": [
      "[99, 99, 99, 1, 2, 3, 4, 5, 6, 7, 8, 9, 10, 98, 98, 98]\n"
     ]
    }
   ],
   "source": [
    "def merge(A,p,q,r):\n",
    "    s=p-1\n",
    "    t=q\n",
    "    B=[]\n",
    "    while s<q and t<r:\n",
    "        if A[s]<=A[t]:\n",
    "            B.append(A[s])\n",
    "            s+=1\n",
    "        else:\n",
    "            B.append(A[t])\n",
    "            t+=1\n",
    "\n",
    "    if s==q:\n",
    "        while t<r:\n",
    "            B.append(A[t])\n",
    "            t+=1\n",
    "    else:\n",
    "        while s<q:\n",
    "            B.append(A[s])\n",
    "            s+=1\n",
    "    A[p-1:r]=B\n",
    "    return A\n",
    "A=[99,99,99,1,3,5,7,9,2,4,6,8,10,98,98,98]\n",
    "\n",
    "res=merge(A,4,8,13)\n",
    "print(res)"
   ]
  },
  {
   "cell_type": "markdown",
   "metadata": {},
   "source": [
    "# 算法复杂度是O(n),Ω(n),θ(n)"
   ]
  },
  {
   "cell_type": "markdown",
   "metadata": {},
   "source": [
    "<hr style=\"height:3px;border:none;border-top:3px double black;\" />"
   ]
  },
  {
   "cell_type": "markdown",
   "metadata": {},
   "source": [
    "# SelectionSort\n",
    "# 输入：n个元素的数组A\n",
    "# 输出：按非降序排列的数组A"
   ]
  },
  {
   "cell_type": "code",
   "execution_count": 67,
   "metadata": {},
   "outputs": [
    {
     "name": "stdout",
     "output_type": "stream",
     "text": [
      "[1, 2, 3, 4, 5, 6, 7, 8, 9, 10]\n"
     ]
    }
   ],
   "source": [
    "def SelectionSort(A):\n",
    "    i=0\n",
    "    n=len(A)-1\n",
    "    while i<n:\n",
    "        k=i\n",
    "        j=i+1\n",
    "        while j<=n:\n",
    "            if A[j]<A[k]:k=j\n",
    "            j+=1\n",
    "        if k!=i:\n",
    "            temp=A[i]\n",
    "            A[i]=A[k]\n",
    "            A[k]=temp\n",
    "        i+=1\n",
    "    return A\n",
    "A=[5,4,3,2,1,10,9,8,7,6]\n",
    "res=SelectionSort(A)\n",
    "print(res)"
   ]
  },
  {
   "cell_type": "markdown",
   "metadata": {},
   "source": [
    "# 算法复杂度是O(n^2),Ω(n^2),θ(n^2)"
   ]
  },
  {
   "cell_type": "markdown",
   "metadata": {},
   "source": [
    "<hr style=\"height:3px;border:none;border-top:3px double black;\" />"
   ]
  },
  {
   "cell_type": "markdown",
   "metadata": {},
   "source": [
    "# InsertionSort\n",
    "# 输入：n个元素的数组A\n",
    "# 输出：按非降序排列的数组A"
   ]
  },
  {
   "cell_type": "code",
   "execution_count": 68,
   "metadata": {},
   "outputs": [
    {
     "name": "stdout",
     "output_type": "stream",
     "text": [
      "[1, 2, 2, 3, 4, 5, 6, 7, 8, 9, 10]\n"
     ]
    }
   ],
   "source": [
    "def insertionsort(A):\n",
    "    i=0\n",
    "    n=len(A)-1\n",
    "    while i<=n:\n",
    "        x=A[i]\n",
    "        j=i-1\n",
    "        while j>=0 and A[j]>x:\n",
    "            A[j+1]=A[j]\n",
    "            j-=1\n",
    "        A[j+1]=x\n",
    "        i+=1\n",
    "    return A\n",
    "\n",
    "A=[5,4,3,2,2,1,10,9,8,7,6]\n",
    "res=insertionsort(A)\n",
    "print(res)"
   ]
  },
  {
   "cell_type": "markdown",
   "metadata": {},
   "source": [
    "# 算法复杂度是O(n^2),Ω(n),θ(n^2)"
   ]
  },
  {
   "cell_type": "markdown",
   "metadata": {},
   "source": [
    "<hr style=\"height:3px;border:none;border-top:3px double black;\" />"
   ]
  },
  {
   "cell_type": "markdown",
   "metadata": {},
   "source": [
    "# ButtomupSort\n",
    "# 输入：n个元素的数组A\n",
    "# 输出：按非降序排列的数组A"
   ]
  },
  {
   "cell_type": "code",
   "execution_count": 2,
   "metadata": {},
   "outputs": [
    {
     "name": "stdout",
     "output_type": "stream",
     "text": [
      "[4, 5, 2, 3, 1, 2, 9, 10, 7, 8, 6]\n",
      "[2, 3, 4, 5, 1, 2, 9, 10, 6, 7, 8]\n",
      "[1, 2, 2, 3, 4, 5, 9, 10, 6, 7, 8]\n",
      "[1, 2, 2, 3, 4, 5, 6, 7, 8, 9, 10]\n",
      "[1, 2, 2, 3, 4, 5, 6, 7, 8, 9, 10]\n"
     ]
    }
   ],
   "source": [
    "# from Merge import merge\n",
    "# 之前的merge算法已经对python列表下标从0开始进行了调整，buttomupsort算法将不再需要对此进行调整\n",
    "def ButtomupSort(A):\n",
    "    t=1\n",
    "    n=len(A)\n",
    "    while t<n:\n",
    "        s=t\n",
    "        t=2*s\n",
    "        i=0\n",
    "        while i+t<=n:\n",
    "            A=merge(A,i+1,i+s,i+t)\n",
    "            i=i+t\n",
    "        if i+s<n:\n",
    "            A=merge(A,i+1,i+s,n)\n",
    "        print(A)\n",
    "    return A\n",
    "\n",
    "A=[5,4,3,2,2,1,10,9,8,7,6]\n",
    "\n",
    "res=ButtomupSort(A)\n",
    "print(res)"
   ]
  },
  {
   "cell_type": "markdown",
   "metadata": {},
   "source": [
    "# 算法复杂度是O(nlogn),Ω(nlogn),θ(nlogn)"
   ]
  },
  {
   "cell_type": "markdown",
   "metadata": {},
   "source": [
    "<hr style=\"height:3px;border:none;border-top:3px double black;\" />"
   ]
  },
  {
   "cell_type": "markdown",
   "metadata": {},
   "source": [
    "# BubbleSort\n",
    "# 输入：n个元素的数组A\n",
    "# 输出：按非降序排列的数组A"
   ]
  },
  {
   "cell_type": "code",
   "execution_count": 1,
   "metadata": {},
   "outputs": [
    {
     "name": "stdout",
     "output_type": "stream",
     "text": [
      "[1, 2, 2, 3, 4, 5, 6, 7, 8, 9, 10]\n"
     ]
    }
   ],
   "source": [
    "def Bubblesort(A):\n",
    "    i=0\n",
    "    n=len(A)-1\n",
    "    for i in range(0,n-1):\n",
    "        for j in range(0,n-i):\n",
    "            if A[j]>A[j+1]:\n",
    "                temp=A[j]\n",
    "                A[j]=A[j+1]\n",
    "                A[j+1]=temp\n",
    "    return A\n",
    "A=[5,4,3,2,2,1,10,9,8,7,6]\n",
    "\n",
    "res=Bubblesort(A)\n",
    "print(res)"
   ]
  },
  {
   "cell_type": "markdown",
   "metadata": {},
   "source": [
    "# 算法复杂度是O(n^2),Ω(n^2),θ(n^2)"
   ]
  },
  {
   "cell_type": "markdown",
   "metadata": {},
   "source": [
    "<hr style=\"height:3px;border:none;border-top:3px double black;\" />"
   ]
  },
  {
   "cell_type": "markdown",
   "metadata": {},
   "source": [
    "# RadixSort\n",
    "# 输入：一张有n个数的表L={a1,a2,...,an}和k位数字\n",
    "# 输出：按非降序排列的L"
   ]
  },
  {
   "cell_type": "code",
   "execution_count": 5,
   "metadata": {},
   "outputs": [
    {
     "name": "stdout",
     "output_type": "stream",
     "text": [
      "[7467, 1247, 3275, 6792, 9187, 9134, 4675, 1239]\n",
      "[6792, 9134, 3275, 4675, 7467, 1247, 9187, 1239]\n",
      "[9134, 1239, 1247, 7467, 3275, 4675, 9187, 6792]\n",
      "[9134, 9187, 1239, 1247, 3275, 7467, 4675, 6792]\n",
      "[1239, 1247, 3275, 4675, 6792, 7467, 9134, 9187]\n"
     ]
    }
   ],
   "source": [
    "def RadixSort(L,k,n):\n",
    "    j=1\n",
    "    while j<=k:\n",
    "        print(L)\n",
    "        # 准备十个空表\n",
    "        Li =[[0 for col in range(n)] for row in range(10)]\n",
    "        for m in L:\n",
    "            a=m\n",
    "            i=a\n",
    "            i=int(i/(10**(j-1)))\n",
    "            for s in range(k-j,0,-1):\n",
    "                i=i%(10**s)\n",
    "            for t in range(0,n-1):\n",
    "                if Li[i][t]==0:\n",
    "                    Li[i][t]=a\n",
    "                    break\n",
    "\n",
    "        L=[]\n",
    "        for p in Li:\n",
    "            for h in p:\n",
    "                if h!=0:\n",
    "                    L.append(h)\n",
    "        j+=1\n",
    "\n",
    "    return L\n",
    "\n",
    "L=[7467,1247,3275,6792,9187,9134,4675,1239]\n",
    "\n",
    "res=RadixSort(L,4,len(L))\n",
    "print(res)"
   ]
  },
  {
   "cell_type": "markdown",
   "metadata": {},
   "source": [
    "# 算法复杂度是O(n),Ω(n),θ(n)"
   ]
  },
  {
   "cell_type": "markdown",
   "metadata": {},
   "source": [
    "<hr style=\"height:3px;border:none;border-top:3px double black;\" />"
   ]
  },
  {
   "cell_type": "markdown",
   "metadata": {},
   "source": [
    "# EXPREC\n",
    "# 输入：实数x和非负整数n\n",
    "# 输出：x^n"
   ]
  },
  {
   "cell_type": "code",
   "execution_count": 1,
   "metadata": {},
   "outputs": [
    {
     "name": "stdout",
     "output_type": "stream",
     "text": [
      "512\n",
      "1024\n",
      "2048\n"
     ]
    }
   ],
   "source": [
    "def power(x,m):\n",
    "    if m==0:y=1\n",
    "    else:\n",
    "        y=power(x,int(m/2))\n",
    "        y=y*y\n",
    "        if m%2==1:y=x*y\n",
    "    return y\n",
    "x=2\n",
    "m1=9\n",
    "m2=10\n",
    "m3=11\n",
    "print(power(x,m1))\n",
    "print(power(x,m2))\n",
    "print(power(x,m3))"
   ]
  },
  {
   "cell_type": "markdown",
   "metadata": {},
   "source": [
    "# 算法复杂度是O(logm),Ω(logm),θ(logm)"
   ]
  },
  {
   "cell_type": "markdown",
   "metadata": {},
   "source": [
    "<hr style=\"height:3px;border:none;border-top:3px double black;\" />"
   ]
  },
  {
   "cell_type": "markdown",
   "metadata": {},
   "source": [
    "# Horner\n",
    "# 输入：n+2个实数a0,a1,...an和x的序列\n",
    "# 输出：Pn(x)=anx^n+an-1x^n-1+...+a1x+a0"
   ]
  },
  {
   "cell_type": "code",
   "execution_count": 2,
   "metadata": {},
   "outputs": [
    {
     "name": "stdout",
     "output_type": "stream",
     "text": [
      "57\n",
      "57\n"
     ]
    }
   ],
   "source": [
    "def Horner(A,i):\n",
    "    if i==1:\n",
    "        p=A[0]*A[-1]+A[1]\n",
    "\n",
    "    else:\n",
    "        p=A[-1]*Horner(A,i-1)+A[i]\n",
    "    return p\n",
    "\n",
    "A=[1,2,3,4,5,2]\n",
    "\n",
    "print(Horner(A,4))\n",
    "print((((A[0]*A[-1]+A[1])*A[-1]+A[2])*A[-1]+A[3])*A[-1]+A[4])"
   ]
  },
  {
   "cell_type": "markdown",
   "metadata": {},
   "source": [
    "# 算法复杂度是O(n),Ω(n),θ(n)"
   ]
  },
  {
   "cell_type": "markdown",
   "metadata": {},
   "source": [
    "<hr style=\"height:3px;border:none;border-top:3px double black;\" />"
   ]
  },
  {
   "cell_type": "markdown",
   "metadata": {},
   "source": [
    "# MAJORITY\n",
    "# 输入：n个元素的数组A[1...n]\n",
    "# 输出：若存在多数元素，则输出，否则输出none"
   ]
  },
  {
   "cell_type": "code",
   "execution_count": 1,
   "metadata": {},
   "outputs": [
    {
     "name": "stdout",
     "output_type": "stream",
     "text": [
      "2\n"
     ]
    }
   ],
   "source": [
    "# 用递归形式写循坏\n",
    "def candidte(A,m):\n",
    "    j=m\n",
    "    c=A[m]\n",
    "    count=1\n",
    "    while j<len(A)-1 and count>0:\n",
    "        j=j+1\n",
    "        if A[j]==c:count=count+1\n",
    "        else:count=count-1\n",
    "    if j==len(A)-1:return c\n",
    "    else:\n",
    "        return candidte(A,j+1)\n",
    "\n",
    "def majority(A):\n",
    "    c=candidte(A,0)\n",
    "    count=0\n",
    "    for j in range(0,len(A)):\n",
    "        if A[j]==c:count=count+1\n",
    "    if count>int(len(A)/2):return c\n",
    "    else:\n",
    "        return None\n",
    "\n",
    "A=[1,2,3,1,2,2,4,2,6,2,2]\n",
    "print(majority(A))"
   ]
  },
  {
   "cell_type": "markdown",
   "metadata": {},
   "source": [
    "# 算法复杂度是θ(nlogn)"
   ]
  },
  {
   "cell_type": "markdown",
   "metadata": {},
   "source": [
    "<hr style=\"height:3px;border:none;border-top:3px double black;\" />"
   ]
  },
  {
   "cell_type": "markdown",
   "metadata": {},
   "source": [
    "# Hanoi\n",
    "# 输入：正整数n\n",
    "# 输出：汉诺塔游戏需要移动次数"
   ]
  },
  {
   "cell_type": "code",
   "execution_count": 2,
   "metadata": {},
   "outputs": [
    {
     "name": "stdout",
     "output_type": "stream",
     "text": [
      "18446744073709551615\n"
     ]
    }
   ],
   "source": [
    "def hanoi(n):\n",
    "    if n==1:return 1\n",
    "\n",
    "    return 2*hanoi(n-1)+1\n",
    "\n",
    "print(hanoi(64))"
   ]
  },
  {
   "cell_type": "markdown",
   "metadata": {},
   "source": [
    "# 思路:A B C三根柱子，圆盘从A移到C\n",
    "# 只有1个时直接移到C\n",
    "# 有2个或以上时，用上一次移动的方法，但把圆盘移到B,\n",
    "# 把最后一个从A移到C，用上一次移到的方法，把此刻在B的圆盘移到C\n",
    "# 故每一次都是上一次的两倍再加一"
   ]
  },
  {
   "cell_type": "markdown",
   "metadata": {},
   "source": [
    "<hr style=\"height:3px;border:none;border-top:3px double black;\" />"
   ]
  },
  {
   "cell_type": "markdown",
   "metadata": {},
   "source": [
    "# Fibonacci\n",
    "# 输入：正整数n\n",
    "# 输出：Fibonacci sequence第n项\n",
    "\n",
    "# F(0)=0,F(1)=1,F(n)=F(n-1)+F(n-2)"
   ]
  },
  {
   "cell_type": "code",
   "execution_count": 4,
   "metadata": {},
   "outputs": [
    {
     "name": "stdout",
     "output_type": "stream",
     "text": [
      "34\n"
     ]
    }
   ],
   "source": [
    "def Fibonacci(n):\n",
    "    if n==0:f=0\n",
    "    elif n==1:f=1\n",
    "    else:f=Fibonacci(n-1)+Fibonacci(n-2)\n",
    "    return f\n",
    "\n",
    "print(Fibonacci(9))"
   ]
  },
  {
   "cell_type": "markdown",
   "metadata": {},
   "source": [
    "<hr style=\"height:3px;border:none;border-top:3px double black;\" />"
   ]
  },
  {
   "cell_type": "markdown",
   "metadata": {},
   "source": [
    "# MinMax\n",
    "# 输入：n个整数元素的数组A,n为2的幂\n",
    "# 输出：(x,y)A中最大元素和最小元素"
   ]
  },
  {
   "cell_type": "code",
   "execution_count": 5,
   "metadata": {},
   "outputs": [
    {
     "name": "stdout",
     "output_type": "stream",
     "text": [
      "(0, 9)\n"
     ]
    }
   ],
   "source": [
    "def MinMax(low,high,A):\n",
    "    if high-low==1:\n",
    "        if A[low]<A[high]:return (A[low],A[high])\n",
    "        else:return (A[high],A[low])\n",
    "    else:\n",
    "        mid=int((low+high)/2)\n",
    "        (x1,y1)=MinMax(A[low],A[mid],A)\n",
    "        (x2,y2)=MinMax(A[mid+1],A[high],A)\n",
    "        x=min(x1,x2)\n",
    "        y=max(y1,y2)\n",
    "    return (x,y)\n",
    "\n",
    "A=[3,2,1,0,4,5,9,8,7,6]\n",
    "print(MinMax(0,len(A)-1,A))"
   ]
  },
  {
   "cell_type": "markdown",
   "metadata": {},
   "source": [
    "<hr style=\"height:3px;border:none;border-top:3px double black;\" />"
   ]
  },
  {
   "cell_type": "markdown",
   "metadata": {},
   "source": [
    "# MinMax\n",
    "# 输入：n个整数元素的数组A,n为2的幂\n",
    "# 输出：(x,y)A中最大元素和最小元素"
   ]
  },
  {
   "cell_type": "code",
   "execution_count": 6,
   "metadata": {},
   "outputs": [
    {
     "name": "stdout",
     "output_type": "stream",
     "text": [
      "(0, 9)\n"
     ]
    }
   ],
   "source": [
    "def MinMax(low,high,A):\n",
    "    if high-low==1:\n",
    "        if A[low]<A[high]:return (A[low],A[high])\n",
    "        else:return (A[high],A[low])\n",
    "    else:\n",
    "        mid=int((low+high)/2)\n",
    "        (x1,y1)=MinMax(A[low],A[mid],A)\n",
    "        (x2,y2)=MinMax(A[mid+1],A[high],A)\n",
    "        x=min(x1,x2)\n",
    "        y=max(y1,y2)\n",
    "    return (x,y)\n",
    "\n",
    "A=[3,2,1,0,4,5,9,8,7,6]\n",
    "print(MinMax(0,len(A)-1,A))"
   ]
  },
  {
   "cell_type": "markdown",
   "metadata": {},
   "source": [
    "# 3n/2-2次元素比较，蛮力法需要n(n-1)/2，循环一次选出最大的再循环一次找出最小的则要2n次元素比较"
   ]
  },
  {
   "cell_type": "markdown",
   "metadata": {},
   "source": [
    "<hr style=\"height:3px;border:none;border-top:3px double black;\" />"
   ]
  },
  {
   "cell_type": "markdown",
   "metadata": {},
   "source": [
    "# MergeSort\n",
    "# 输入：n个元素的数组A\n",
    "# 输出：按非降序排列的数组A"
   ]
  },
  {
   "cell_type": "code",
   "execution_count": 8,
   "metadata": {},
   "outputs": [
    {
     "name": "stdout",
     "output_type": "stream",
     "text": [
      "[1, 2, 2, 3, 4, 5, 6, 7, 8, 9, 10]\n"
     ]
    }
   ],
   "source": [
    "from Merge import merge\n",
    "\n",
    "def mergesort(low,high,A):\n",
    "    if low<high:\n",
    "        mid=(low+high)//2\n",
    "        A=mergesort(low,mid,A)\n",
    "        A=mergesort(mid+1,high,A)\n",
    "        A=merge(A,low,mid,high)\n",
    "    return A\n",
    "\n",
    "A=[5,4,3,2,2,1,10,9,8,7,6]\n",
    "\n",
    "print(mergesort(1,len(A),A))"
   ]
  },
  {
   "cell_type": "markdown",
   "metadata": {},
   "source": [
    "# 算法复杂度是O(nlogn),Ω(nlogn),θ(nlogn)"
   ]
  },
  {
   "cell_type": "markdown",
   "metadata": {},
   "source": [
    "<hr style=\"height:3px;border:none;border-top:3px double black;\" />"
   ]
  },
  {
   "cell_type": "code",
   "execution_count": null,
   "metadata": {},
   "outputs": [],
   "source": []
  }
 ],
 "metadata": {
  "kernelspec": {
   "display_name": "Python 3",
   "language": "python",
   "name": "python3"
  },
  "language_info": {
   "codemirror_mode": {
    "name": "ipython",
    "version": 3
   },
   "file_extension": ".py",
   "mimetype": "text/x-python",
   "name": "python",
   "nbconvert_exporter": "python",
   "pygments_lexer": "ipython3",
   "version": "3.6.5"
  }
 },
 "nbformat": 4,
 "nbformat_minor": 2
}
